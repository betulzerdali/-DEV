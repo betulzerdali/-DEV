{
 "cells": [
  {
   "cell_type": "code",
   "execution_count": null,
   "id": "d1eecdc1",
   "metadata": {},
   "outputs": [],
   "source": [
    "import pandas as pd\n",
    "import numpy as np\n",
    "\n",
    "data_path = '/mnt/data/soru1_2_data.csv'\n",
    "image_data = pd.read_csv(data_path, header=None)\n",
    "\n",
    "pixels = image_data.to_numpy()\n",
    "\n",
    "L = 256\n",
    "\n",
    "min_pixel = pixels.min()\n",
    "max_pixel = pixels.max()\n",
    "\n",
    "new_pixels = (pixels - min_pixel) / (max_pixel - min_pixel) * (L - 1)"
   ]
  }
 ],
 "metadata": {},
 "nbformat": 4,
 "nbformat_minor": 5
}
