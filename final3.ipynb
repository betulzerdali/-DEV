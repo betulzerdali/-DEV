{
 "cells": [
  {
   "cell_type": "code",
   "execution_count": null,
   "id": "ee45d9db",
   "metadata": {},
   "outputs": [],
   "source": [
    "import numpy as np\n",
    "import pandas as pd\n",
    "import matplotlib.pyplot as plt"
   ]
  },
  {
   "cell_type": "code",
   "execution_count": null,
   "id": "26708cd8",
   "metadata": {},
   "outputs": [],
   "source": [
    "file_path = '/content/soru3_data.csv'\n",
    "image_data = pd.read_csv(file_path, header=None)"
   ]
  },
  {
   "cell_type": "code",
   "execution_count": null,
   "id": "6d97f588",
   "metadata": {},
   "outputs": [],
   "source": [
    "kernel = np.array([\n",
    "    [1, 2, 1],\n",
    "    [2, 4, 2],\n",
    "    [1, 2, 1]\n",
    "]) / 16"
   ]
  },
  {
   "cell_type": "code",
   "execution_count": null,
   "id": "98dbb747",
   "metadata": {},
   "outputs": [],
   "source": [
    "def apply_gaussian_filter(image, kernel):\n",
    "    kernel_size = kernel.shape[0]\n",
    "    offset = kernel_size // 2\n",
    "    filtered_image = np.zeros((image.shape[0] - 2*offset, image.shape[1] - 2*offset))\n",
    "    \n",
    "    for i in range(offset, image.shape[0] - offset):\n",
    "        for j in range(offset, image.shape[1] - offset):\n",
    "            region = image[i-offset:i+offset+1, j-offset:j+offset+1]\n",
    "            filtered_value = np.sum(region * kernel)\n",
    "            filtered_image[i-offset, j-offset] = filtered_value\n",
    "    \n",
    "    return filtered_image"
   ]
  },
  {
   "cell_type": "code",
   "execution_count": null,
   "id": "a7885632",
   "metadata": {},
   "outputs": [],
   "source": [
    "image_array = image_data.values"
   ]
  },
  {
   "cell_type": "code",
   "execution_count": null,
   "id": "336d0d3a",
   "metadata": {},
   "outputs": [],
   "source": [
    "filtered_image = apply_gaussian_filter(image_array, kernel)"
   ]
  },
  {
   "cell_type": "code",
   "execution_count": null,
   "id": "18a9d6a8",
   "metadata": {},
   "outputs": [],
   "source": [
    "plt.figure(figsize=(8, 8))\n",
    "plt.imshow(filtered_image, cmap='gray')\n",
    "plt.title('Gauss Yumuşatma Filtresi Uygulanmış Görüntü')\n",
    "plt.colorbar()\n",
    "plt.show()"
   ]
  }
 ],
 "metadata": {},
 "nbformat": 4,
 "nbformat_minor": 5
}
