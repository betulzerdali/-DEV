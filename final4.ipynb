{
 "cells": [
  {
   "cell_type": "code",
   "execution_count": null,
   "id": "2c7303b6",
   "metadata": {},
   "outputs": [],
   "source": [
    "\n",
    "data = {\n",
    "    100: 12, 101: 18, 102: 32, 103: 48, 104: 52, 105: 65, 106: 55,\n",
    "    107: 42, 108: 32, 109: 16, 110: 10, 140: 5, 141: 18, 142: 25,\n",
    "    143: 32, 144: 40, 145: 65, 146: 43, 147: 32, 148: 20, 149: 10, 150: 4\n",
    "}\n",
    "\n",
    "def calculate_threshold(data, initial_threshold=100, threshold=1):\n",
    "    T0 = initial_threshold\n",
    "    while True:\n",
    "        G1 = [intensity for intensity, count in data.items() if intensity > T0]\n",
    "        G2 = [intensity for intensity, count in data.items() if intensity <= T0]\n",
    "        \n",
    "        m1 = sum(intensity * data[intensity] for intensity in G1) / sum(data[intensity] for intensity in G1)\n",
    "        m2 = sum(intensity * data[intensity] for intensity in G2) / sum(data[intensity] for intensity in G2)\n",
    "        \n",
    "        T1 = (m1 + m2) / 2\n",
    "        \n",
    "        if abs(T1 - T0) <= threshold:\n",
    "            return T1\n",
    "        \n",
    "        T0 = T1\n",
    "\n",
    "optimal_threshold = calculate_threshold(data)\n",
    "print(f\"Optimal Eşik Değeri: {optimal_threshold}\")\n"
   ]
  }
 ],
 "metadata": {},
 "nbformat": 4,
 "nbformat_minor": 5
}
