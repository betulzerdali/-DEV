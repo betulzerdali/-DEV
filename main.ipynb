{
 "cells": [
  {
   "cell_type": "code",
   "execution_count": null,
   "id": "c144e81c",
   "metadata": {},
   "outputs": [],
   "source": [
    "import numpy as np\n",
    "import matplotlib.pyplot as plt\n",
    "import random\n",
    "import math"
   ]
  },
  {
   "cell_type": "code",
   "execution_count": null,
   "id": "b316564d",
   "metadata": {},
   "outputs": [],
   "source": [
    "g = 10  # yer çekimi ivmesi\n",
    "angle = math.radians(30)\n",
    "h = 7  # okul numaramın son 2 hanesi 07\n",
    "min_v = 330  # minimum hız\n",
    "max_v = 1800  # maximum hız"
   ]
  },
  {
   "cell_type": "code",
   "execution_count": null,
   "id": "c0949af4",
   "metadata": {},
   "outputs": [],
   "source": [
    "v_0 = (min_v + max_v) / 2  # hız"
   ]
  },
  {
   "cell_type": "code",
   "execution_count": null,
   "id": "5c27fbd4",
   "metadata": {},
   "outputs": [],
   "source": [
    "# Hesaplama Bilgileri\n",
    "d_distance = 20000 + 200 * random.randint(-10, 10)  # uzaklık mesafesi\n",
    "width_start = d_distance  # genişlik_baslangıc=uzaklık_mesafesi\n",
    "width_end = d_distance + 1000 + 100 * random.randint(-2, 2)  # genişlik bitiş"
   ]
  },
  {
   "cell_type": "code",
   "execution_count": null,
   "id": "672806ec",
   "metadata": {},
   "outputs": [],
   "source": [
    "def shot_calculation(vx, vy, h):\n",
    "    t_exit = vy / g\n",
    "    t_down = np.sqrt(vy ** 2 + 2 * g * h) / g\n",
    "    t_air = t_exit + t_down\n",
    "\n",
    "    x_range = vx * t_air\n",
    "    return t_air, x_range"
   ]
  },
  {
   "cell_type": "code",
   "execution_count": null,
   "id": "7de968fa",
   "metadata": {
    "lines_to_next_cell": 1
   },
   "outputs": [],
   "source": [
    "def shoot(min_v, max_v, width_start, width_end):\n",
    "    shoot_num = 0\n",
    "    x_values = []\n",
    "    y_values = []\n",
    "\n",
    "    while True:\n",
    "        v_avg = (min_v + max_v) / 2  # ortalama hız\n",
    "        vx = v_avg * np.cos(angle)\n",
    "        vy = v_avg * np.sin(angle)\n",
    "\n",
    "        t_air, x_range = shot_calculation(vx, vy, h)\n",
    "\n",
    "        shoot_num += 1\n",
    "\n",
    "        if x_range < width_start:\n",
    "            min_v = v_avg\n",
    "            print(\"önüne düştü\")\n",
    "        elif x_range > width_end:\n",
    "            max_v = v_avg\n",
    "            print(\"uzakına düştü\")\n",
    "        else:\n",
    "            print(f\"{shoot_num}. seferde vuruş gerçekleşmiştir. Hedefi vurmak için gerekli hız {v_avg} km/s'dir\")\n",
    "            \n",
    "            # veriler\n",
    "            t_values = np.linspace(0, t_air, 1000)\n",
    "            x_values = vx * t_values\n",
    "            y_values = h + vy * t_values - 0.5 * g * t_values ** 2\n",
    "            \n",
    "            break\n",
    "    \n",
    "    # grafik çizimi\n",
    "    plt.plot(x_values, y_values)\n",
    "    plt.xlabel('Mesafe (metre)')\n",
    "    plt.ylabel('Yükseklik (metre)')\n",
    "    plt.title('deneme sayısı: {}'.format(shoot_num))\n",
    "    plt.show()"
   ]
  },
  {
   "cell_type": "code",
   "execution_count": null,
   "id": "7f7d2351",
   "metadata": {},
   "outputs": [],
   "source": [
    "shoot(min_v, max_v, width_start, width_end)"
   ]
  }
 ],
 "metadata": {
  "jupytext": {
   "cell_metadata_filter": "-all",
   "main_language": "python",
   "notebook_metadata_filter": "-all"
  }
 },
 "nbformat": 4,
 "nbformat_minor": 5
}
