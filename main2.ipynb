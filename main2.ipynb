{
 "cells": [
  {
   "cell_type": "code",
   "execution_count": null,
   "id": "483a5fbe",
   "metadata": {},
   "outputs": [],
   "source": [
    "import numpy as np\n",
    "import pandas as pd\n",
    "ages = np.array([15, 15, 16, 19, 19, 20, 20, 21, 22, 28, 35, 40, 41, 42, 43, 44, 60, 61, 65]) #Dosyada Verilen Yaş Değerleri\n",
    "c1,c2 = 16,22\n",
    "dfs = [] #Sonuçları göstermek için liste - DataFrame\n",
    "for iteration in range(4):\n",
    "  distance1 = np.abs(ages - c1)\n",
    "  distance2 = np.abs(ages - c2)\n",
    "  nearest_cluster = np.where(distance1 < distance2,1,2) # en yakın kümeyi seçiyoruz\n",
    "\n",
    "  c1_new = np.mean(ages[nearest_cluster == 1])\n",
    "  c2_new = np.mean(ages[nearest_cluster == 2])\n",
    "  df = pd.DataFrame({\n",
    "      'xi': ages,\n",
    "      'c1': np.full(ages.shape, c1),\n",
    "      'c2': np.full(ages.shape, c2),\n",
    "      'Distance1': distance1,\n",
    "      'Distance2': distance2,\n",
    "      'Nearest Cluster': nearest_cluster,\n",
    "      'New Centroid c1': np.full(ages.shape, c1_new),\n",
    "      'New Centroid c2': np.full(ages.shape, c2_new)\n",
    "  })\n",
    "  dfs.append(df)"
   ]
  },
  {
   "cell_type": "code",
   "execution_count": null,
   "id": "2c032f42",
   "metadata": {},
   "outputs": [],
   "source": [
    "c1,c2 = c1_new,c2_new\n",
    "all_iterations_df = pd.concat(dfs, keys=range(1, len(dfs) + 1), names=['Iteration'])\n",
    "pd.options.display.max_rows = None # belirli bir sayıdan sonra değerler göstermeme durumunu yok sayar\n",
    "pd.DataFrame(all_iterations_df)"
   ]
  },
  {
   "cell_type": "code",
   "execution_count": null,
   "id": "090ddb61",
   "metadata": {},
   "outputs": [],
   "source": [
    "print(pd.DataFrame(all_iterations_df))"
   ]
  }
 ],
 "metadata": {
  "jupytext": {
   "cell_metadata_filter": "-all",
   "main_language": "python",
   "notebook_metadata_filter": "-all"
  }
 },
 "nbformat": 4,
 "nbformat_minor": 5
}
